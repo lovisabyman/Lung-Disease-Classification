{
 "cells": [
  {
   "cell_type": "markdown",
   "id": "02f349dd",
   "metadata": {},
   "source": [
    "# Data preprocessing\n",
    "Reading the labels, creating directories with the images for each class to be able to load it using keras image_dataset_from_directory function."
   ]
  },
  {
   "cell_type": "code",
   "execution_count": null,
   "id": "ccfc7137",
   "metadata": {},
   "outputs": [],
   "source": [
    "import pandas as pd\n",
    "import shutil"
   ]
  },
  {
   "cell_type": "code",
   "execution_count": null,
   "id": "20efad00",
   "metadata": {},
   "outputs": [],
   "source": [
    "df_raw = pd.read_json('./ChestX_Det_test.json')\n",
    "\n",
    "df_raw.drop(columns=['boxes', 'polygons'], inplace=True)\n",
    "\n",
    "df_processed = pd.DataFrame(columns = ['file_name', 'Atelectasis', 'Calcification', 'Cardiomegaly', 'Consolidation', 'Diffuse Nodule', 'Effusion', 'Emphysema', 'Fibrosis', 'Fracture', 'Mass', 'Nodule', 'Pleural Thickening', 'Pneumothorax'])\n",
    "\n",
    "\n",
    "for index, row in df_raw.iterrows():\n",
    "    Atelectasis, Calcification, Cardiomegaly, Consolidation, Diffuse_Nodule, Effusion, Emphysema, Fibrosis, Fracture, Mass, Nodule, Pleural_Thickening, Pneumothorax = 0,0,0,0,0,0,0,0,0,0,0,0,0\n",
    "\n",
    "    if 'Atelectasis' in row['syms']:\n",
    "      Atelectasis = 1\n",
    "    if 'Calcification' in row['syms']:\n",
    "      Calcification = 1\n",
    "    if 'Cardiomegaly' in row['syms']:\n",
    "      Cardiomegaly = 1\n",
    "    if 'Consolidation' in row['syms']:\n",
    "      Consolidation = 1\n",
    "    if 'Diffuse Nodule' in row['syms']:\n",
    "      Diffuse_Nodule = 1\n",
    "    if 'Effusion' in row['syms']:\n",
    "      Effusion = 1\n",
    "    if 'Emphysema' in row['syms']:\n",
    "      Emphysema = 1\n",
    "    if 'Fibrosis' in row['syms']:\n",
    "      Fibrosis = 1\n",
    "    if 'Fracture' in row['syms']:\n",
    "      Fracture = 1\n",
    "    if 'Mass' in row['syms']:\n",
    "      Mass = 1\n",
    "    if 'Nodule' in row['syms']:\n",
    "      Nodule = 1\n",
    "    if 'Pleural Thickening' in row['syms']:\n",
    "      Pleural_Thickening = 1\n",
    "    if 'Pneumothorax' in row['syms']:\n",
    "      Pneumothorax = 1\n",
    "\n",
    "    df_processed = df_processed.append({'file_name' : row['file_name'], 'Atelectasis':Atelectasis, 'Calcification':Calcification, 'Cardiomegaly':Cardiomegaly, 'Consolidation':Consolidation, 'Diffuse Nodule':Diffuse_Nodule, 'Effusion':Effusion, 'Emphysema':Emphysema, 'Fibrosis':Fibrosis, 'Fracture':Fracture, 'Mass':Mass, 'Nodule':Nodule, 'Pleural Thickening':Pleural_Thickening, 'Pneumothorax':Pneumothorax}, ignore_index = True)\n",
    "\n",
    "    \n",
    "display(df_processed)\n",
    "    \n",
    "df_summary = df_processed.sum(axis=0)\n",
    "display(df_summary)\n"
   ]
  },
  {
   "cell_type": "code",
   "execution_count": null,
   "id": "ef353835",
   "metadata": {},
   "outputs": [],
   "source": [
    "for index, row in df_processed.iterrows():\n",
    "  src = f\"/content/drive/MyDrive/CS131/ChestX_test/{row['file_name']}\"\n",
    "  \n",
    "  if row['Effusion'] == 1:\n",
    "    dst = f\"/content/drive/MyDrive/CS131/test_data/effusion/{row['file_name']}\"\n",
    "  else:\n",
    "    dst = f\"/content/drive/MyDrive/CS131/test_data/no_effusion/{row['file_name']}\"\n",
    "\n",
    "  shutil.copyfile(src, dst)"
   ]
  }
 ],
 "metadata": {
  "kernelspec": {
   "display_name": "Python 3 (ipykernel)",
   "language": "python",
   "name": "python3"
  },
  "language_info": {
   "codemirror_mode": {
    "name": "ipython",
    "version": 3
   },
   "file_extension": ".py",
   "mimetype": "text/x-python",
   "name": "python",
   "nbconvert_exporter": "python",
   "pygments_lexer": "ipython3",
   "version": "3.9.7"
  }
 },
 "nbformat": 4,
 "nbformat_minor": 5
}
