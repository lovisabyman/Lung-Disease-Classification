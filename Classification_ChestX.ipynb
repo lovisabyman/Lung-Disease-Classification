{
 "cells": [
  {
   "cell_type": "markdown",
   "metadata": {},
   "source": [
    "# Classification of Chest X-ray images using Vision Transformers"
   ]
  },
  {
   "cell_type": "markdown",
   "metadata": {
    "id": "uxkc9iVqEOsD"
   },
   "source": [
    "## Importing necessary packages"
   ]
  },
  {
   "cell_type": "code",
   "execution_count": null,
   "metadata": {
    "id": "DVSLBnhkfn51"
   },
   "outputs": [],
   "source": [
    "import numpy as np\n",
    "import tensorflow as tf\n",
    "from tensorflow import keras\n",
    "from tensorflow.keras import layers\n",
    "import tensorflow_addons as tfa\n",
    "\n",
    "import pandas as pd\n",
    "import matplotlib.pyplot as plt"
   ]
  },
  {
   "cell_type": "markdown",
   "metadata": {
    "id": "7RheyG0QEula"
   },
   "source": [
    "## Create datasets and set hyperparameters"
   ]
  },
  {
   "cell_type": "code",
   "execution_count": null,
   "metadata": {
    "colab": {
     "base_uri": "https://localhost:8080/"
    },
    "executionInfo": {
     "elapsed": 3153,
     "status": "ok",
     "timestamp": 1670894163944,
     "user": {
      "displayName": "Lovisa Byman",
      "userId": "02436576040537953025"
     },
     "user_tz": 480
    },
    "id": "P3dWL86af8ur",
    "outputId": "4e6ec950-9b05-4dac-cbb2-99d1a6bf30da"
   },
   "outputs": [],
   "source": [
    "num_classes = 2\n",
    "num_color_channels = 1\n",
    "input_shape = (1024, 1024, num_color_channels)\n",
    "\n",
    "image_size = 256  # Resizes input images to this size\n",
    "batch_size = 32\n",
    "\n",
    "input_shape_resized = (image_size, image_size, num_color_channels)\n",
    "\n",
    "\n",
    "train_ds = tf.keras.preprocessing.image_dataset_from_directory(\n",
    "    \"./train_data\",\n",
    "    labels=\"inferred\",\n",
    "    label_mode=\"int\",\n",
    "    class_names=[\"effusion\", \"no_effusion\"],\n",
    "    color_mode=\"grayscale\",\n",
    "    batch_size = batch_size,\n",
    "    image_size = (image_size,image_size),\n",
    "    validation_split=0.1,\n",
    "    seed=2222,\n",
    "    subset=\"training\",\n",
    ")\n",
    "\n",
    "validation_ds = tf.keras.preprocessing.image_dataset_from_directory(\n",
    "    \"./train_data\",\n",
    "    labels=\"inferred\",\n",
    "    label_mode=\"int\",\n",
    "    class_names=[\"effusion\", \"no_effusion\"],\n",
    "    color_mode=\"grayscale\",\n",
    "    batch_size = batch_size,\n",
    "    image_size = (image_size,image_size),\n",
    "    validation_split=0.1,\n",
    "    seed=2222,\n",
    "    subset=\"validation\",\n",
    ")\n",
    "\n",
    "\n",
    "test_ds = tf.keras.preprocessing.image_dataset_from_directory(\n",
    "    \"./test_data\",\n",
    "    labels=\"inferred\",\n",
    "    label_mode=\"int\",\n",
    "    class_names=[\"effusion\", \"no_effusion\"],\n",
    "    color_mode=\"grayscale\",\n",
    "    batch_size = batch_size,\n",
    "    image_size = (image_size,image_size),\n",
    ")"
   ]
  },
  {
   "cell_type": "code",
   "execution_count": null,
   "metadata": {
    "id": "3M2GtMUFf97F"
   },
   "outputs": [],
   "source": [
    "learning_rate = 0.001\n",
    "weight_decay = 0.0001\n",
    "num_epochs = 100\n",
    "patch_size = 16  # Size of the patches to be extracted from the input images\n",
    "dropout = 0.1\n",
    "num_patches = (image_size // patch_size) ** 2\n",
    "projection_dim = 64\n",
    "num_heads = 4\n",
    "transformer_units = [\n",
    "    projection_dim * 2,\n",
    "    projection_dim,\n",
    "]  # Size of the transformer layers\n",
    "transformer_layers = 8\n",
    "mlp_head_units = [2048, 1024]  # Size of the dense layers of the final classifier"
   ]
  },
  {
   "cell_type": "markdown",
   "metadata": {},
   "source": [
    "## Define functions and layers to use in the network"
   ]
  },
  {
   "cell_type": "code",
   "execution_count": null,
   "metadata": {
    "id": "mZNDa5cvgHDZ"
   },
   "outputs": [],
   "source": [
    "data_augmentation = keras.Sequential(\n",
    "    [\n",
    "        layers.Normalization(mean=0.5, variance=0.5),\n",
    "        layers.RandomRotation(factor=0.02),\n",
    "        layers.RandomZoom(\n",
    "            height_factor=0.2, width_factor=0.2\n",
    "        ),\n",
    "    ],\n",
    "    name=\"data_augmentation\",\n",
    ")"
   ]
  },
  {
   "cell_type": "code",
   "execution_count": null,
   "metadata": {
    "id": "_dGdjlBbgH33"
   },
   "outputs": [],
   "source": [
    "def mlp(x, hidden_units, dropout_rate):\n",
    "    for units in hidden_units:\n",
    "        x = layers.Dense(units, activation=tf.nn.gelu)(x)\n",
    "        x = layers.Dropout(dropout_rate)(x)\n",
    "    return x"
   ]
  },
  {
   "cell_type": "code",
   "execution_count": null,
   "metadata": {
    "id": "yJlWW6nHgMoc"
   },
   "outputs": [],
   "source": [
    "class Patches(layers.Layer):\n",
    "    def __init__(self, patch_size):\n",
    "        super(Patches, self).__init__()\n",
    "        self.patch_size = patch_size\n",
    "\n",
    "    def call(self, images):\n",
    "        batch_size = tf.shape(images)[0]\n",
    "        patches = tf.image.extract_patches(\n",
    "            images=images,\n",
    "            sizes=[1, self.patch_size, self.patch_size, 1],\n",
    "            strides=[1, self.patch_size, self.patch_size, 1],\n",
    "            rates=[1, 1, 1, 1],\n",
    "            padding=\"VALID\",\n",
    "        )\n",
    "        patch_dims = patches.shape[-1]\n",
    "        patches = tf.reshape(patches, [batch_size, -1, patch_dims])\n",
    "        return patches"
   ]
  },
  {
   "cell_type": "code",
   "execution_count": null,
   "metadata": {
    "id": "1nOT0oNMgRtE"
   },
   "outputs": [],
   "source": [
    "class PatchEncoder(layers.Layer):\n",
    "    def __init__(self, num_patches, projection_dim):\n",
    "        super(PatchEncoder, self).__init__()\n",
    "        self.num_patches = num_patches\n",
    "        self.projection = layers.Dense(units=projection_dim)\n",
    "        self.position_embedding = layers.Embedding(\n",
    "            input_dim=num_patches, output_dim=projection_dim\n",
    "        )\n",
    "\n",
    "    def call(self, patch):\n",
    "        positions = tf.range(start=0, limit=self.num_patches, delta=1)\n",
    "        encoded = self.projection(patch) + self.position_embedding(positions)\n",
    "        return encoded"
   ]
  },
  {
   "cell_type": "markdown",
   "metadata": {
    "id": "8mEZmZp0KUSb"
   },
   "source": [
    "## Visualization of training data"
   ]
  },
  {
   "cell_type": "code",
   "execution_count": null,
   "metadata": {
    "colab": {
     "base_uri": "https://localhost:8080/",
     "height": 569
    },
    "executionInfo": {
     "elapsed": 1162,
     "status": "ok",
     "timestamp": 1670895170152,
     "user": {
      "displayName": "Lovisa Byman",
      "userId": "02436576040537953025"
     },
     "user_tz": 480
    },
    "id": "WVlXEBIZLdcn",
    "outputId": "0a858b1f-0947-437e-8dd2-c872d01baf49"
   },
   "outputs": [],
   "source": [
    "for element in train_ds:\n",
    "    greyscale = element[0].numpy()[0]\n",
    "    one_channel = np.squeeze(greyscale)/255\n",
    "    three_channels = np.stack((one_channel,)*3, axis=-1)\n",
    "    plt.imshow(three_channels)\n",
    "    plt.axis(\"off\")\n",
    "    print([\"No Effusion\", \"Effusion\"][element[1][0]])\n",
    "\n",
    "    patches = Patches(patch_size)(element[0])\n",
    "  \n",
    "    print(f\"Image size: {image_size} X {image_size}\")\n",
    "    print(f\"Patch size: {patch_size} X {patch_size}\")\n",
    "    print(f\"Patches per image: {patches.shape[1]}\")\n",
    "    print(f\"Elements per patch: {patches.shape[-1]}\")\n",
    "\n",
    "    n = int(np.sqrt(patches.shape[1]))\n",
    "    plt.figure(figsize=(4, 4))\n",
    "    for i, patch in enumerate(patches[0]):\n",
    "        ax = plt.subplot(n, n, i + 1)\n",
    "        patch_img = tf.reshape(patch, (patch_size, patch_size))\n",
    "        one_channel = patch_img.numpy().astype(\"uint8\")\n",
    "        three_channels = np.stack((one_channel,)*3, axis=-1)\n",
    "        plt.imshow(three_channels)\n",
    "        plt.axis(\"off\")\n",
    "        break"
   ]
  },
  {
   "cell_type": "markdown",
   "metadata": {},
   "source": [
    "## Define Classifier Network"
   ]
  },
  {
   "cell_type": "code",
   "execution_count": null,
   "metadata": {
    "id": "PrSL_We0gXdU"
   },
   "outputs": [],
   "source": [
    "def create_vit_classifier():\n",
    "    inputs = layers.Input(shape=input_shape_resized)\n",
    "    # Augment data.\n",
    "    augmented = data_augmentation(inputs)\n",
    "    # Create patches.\n",
    "    patches = Patches(patch_size)(augmented)\n",
    "    # Encode patches.\n",
    "    encoded_patches = PatchEncoder(num_patches, projection_dim)(patches)\n",
    "\n",
    "    # Create multiple layers of the Transformer block.\n",
    "    for _ in range(transformer_layers):\n",
    "        # Layer normalization 1.\n",
    "        x1 = layers.LayerNormalization(epsilon=1e-6)(encoded_patches)\n",
    "        # Create a multi-head attention layer.\n",
    "        attention_output = layers.MultiHeadAttention(\n",
    "            num_heads=num_heads, key_dim=projection_dim, dropout=0.1\n",
    "        )(x1, x1)\n",
    "        # Skip connection 1.\n",
    "        x2 = layers.Add()([attention_output, encoded_patches])\n",
    "        # Layer normalization 2.\n",
    "        x3 = layers.LayerNormalization(epsilon=1e-6)(x2)\n",
    "        # MLP.\n",
    "        x3 = mlp(x3, hidden_units=transformer_units, dropout_rate=0.1)\n",
    "        # Skip connection 2.\n",
    "        encoded_patches = layers.Add()([x3, x2])\n",
    "\n",
    "    # Create a [batch_size, projection_dim] tensor.\n",
    "    representation = layers.LayerNormalization(epsilon=1e-6)(encoded_patches)\n",
    "    representation = layers.Flatten()(representation)\n",
    "    representation = layers.Dropout(dropout)(representation) #0.5\n",
    "    # Add MLP.\n",
    "    features = mlp(representation, hidden_units=mlp_head_units, dropout_rate=dropout)#0.5\n",
    "    # Classify outputs.\n",
    "    logits = layers.Dense(1, activation=tf.nn.sigmoid)(features)\n",
    "\n",
    "    # Create the Keras model.\n",
    "    model = keras.Model(inputs=inputs, outputs=logits)\n",
    "    return model"
   ]
  },
  {
   "cell_type": "markdown",
   "metadata": {},
   "source": [
    "## Run experiment"
   ]
  },
  {
   "cell_type": "code",
   "execution_count": null,
   "metadata": {
    "colab": {
     "base_uri": "https://localhost:8080/"
    },
    "executionInfo": {
     "elapsed": 1093160,
     "status": "ok",
     "timestamp": 1670530275017,
     "user": {
      "displayName": "Lovisa Byman",
      "userId": "02436576040537953025"
     },
     "user_tz": 480
    },
    "id": "6ROkQQASgavM",
    "outputId": "e6350cc8-46f6-4edb-aca6-75e24f5b0579",
    "scrolled": false
   },
   "outputs": [],
   "source": [
    "def run_experiment(model):\n",
    "    optimizer = tfa.optimizers.AdamW(\n",
    "        learning_rate=learning_rate, weight_decay=weight_decay\n",
    "    )\n",
    "\n",
    "    model.compile(\n",
    "        optimizer=optimizer,\n",
    "        loss=keras.losses.BinaryCrossentropy(from_logits=False),\n",
    "        metrics=[\n",
    "            keras.metrics.BinaryAccuracy(name=\"accuracy\"),\n",
    "        ],\n",
    "    )\n",
    "\n",
    "    checkpoint_filepath = \"/tmp/checkpoint\"\n",
    "    checkpoint_callback = keras.callbacks.ModelCheckpoint(\n",
    "        checkpoint_filepath,\n",
    "        monitor=\"val_accuracy\",\n",
    "        save_best_only=True,\n",
    "        save_weights_only=True,\n",
    "    )\n",
    "\n",
    "    history = model.fit(\n",
    "        train_ds,\n",
    "        validation_data = validation_ds,\n",
    "        epochs=num_epochs,\n",
    "        callbacks=[checkpoint_callback],\n",
    "    )\n",
    "\n",
    "    model.load_weights(checkpoint_filepath)\n",
    "    _, accuracy = model.evaluate(test_ds)\n",
    "    print(f\"Test accuracy: {round(accuracy * 100, 2)}%\")\n",
    "    return history\n",
    "\n",
    "\n",
    "vit_classifier = create_vit_classifier()\n",
    "history = run_experiment(vit_classifier)"
   ]
  },
  {
   "cell_type": "markdown",
   "metadata": {},
   "source": [
    "## Visualize training loss and accuracy"
   ]
  },
  {
   "cell_type": "code",
   "execution_count": null,
   "metadata": {
    "colab": {
     "base_uri": "https://localhost:8080/",
     "height": 573
    },
    "executionInfo": {
     "elapsed": 849,
     "status": "ok",
     "timestamp": 1670530377541,
     "user": {
      "displayName": "Lovisa Byman",
      "userId": "02436576040537953025"
     },
     "user_tz": 480
    },
    "id": "0cVqOtRb5wkO",
    "outputId": "0368c9e0-e6c3-4968-9cb6-c757c2a8d4f4"
   },
   "outputs": [],
   "source": [
    "plt.plot(history.history['accuracy'])\n",
    "plt.plot(history.history['val_accuracy'])\n",
    "plt.title('model accuracy')\n",
    "plt.ylabel('accuracy')\n",
    "plt.xlabel('epoch')\n",
    "plt.legend(['train', 'validation'], loc='upper left')\n",
    "plt.show()\n",
    "\n",
    "\n",
    "plt.plot(history.history['loss'])\n",
    "plt.plot(history.history['val_loss'])\n",
    "plt.title('model loss')\n",
    "plt.ylabel('loss')\n",
    "plt.xlabel('epoch')\n",
    "plt.legend(['train', 'validation'], loc='upper left')\n",
    "plt.show()"
   ]
  },
  {
   "cell_type": "markdown",
   "metadata": {
    "id": "sXtJsJriDY7H"
   },
   "source": [
    "## Results"
   ]
  },
  {
   "cell_type": "markdown",
   "metadata": {
    "id": "sQvcdEbIDZo2"
   },
   "source": [
    " <table style=\"width:100%\">\n",
    "  <tr>\n",
    "    <th>Run</th>\n",
    "    <th>Image Size</th>\n",
    "    <th>Batch Size</th>\n",
    "    <th>Patch Size</th>\n",
    "    <th>Learning Rate</th>\n",
    "    <th>Weight Decay</th>\n",
    "    <th>Number of Epochs</th>\n",
    "    <th>Dropout</th>\n",
    "    <th>Result (validation set)</th>\n",
    "    <th>Result (test set)</th>\n",
    "  </tr>\n",
    "  <tr>\n",
    "    <td>1</td>\n",
    "    <td>128</td>\n",
    "    <td>1</td>\n",
    "    <td>6</td>\n",
    "    <td>0.0001</td>\n",
    "    <td>0</td>\n",
    "    <td>20</td>\n",
    "    <td>0.5</td>\n",
    "    <td>66.23%</td>\n",
    "    <td></td>\n",
    "  </tr>\n",
    "  <tr>\n",
    "    <td>2</td>\n",
    "    <td>128</td>\n",
    "    <td>4</td>\n",
    "    <td>4</td>\n",
    "    <td>0.0001</td>\n",
    "    <td>0.0006184</td>\n",
    "    <td>50</td>\n",
    "    <td>0.5</td>\n",
    "    <td>64.24%</td>\n",
    "    <td></td>\n",
    "  </tr>\n",
    "  <tr>\n",
    "    <td>3</td>\n",
    "    <td>128</td>\n",
    "    <td>2</td>\n",
    "    <td>4</td>\n",
    "    <td>1e-05</td>\n",
    "    <td>0.0008492</td>\n",
    "    <td>63</td>\n",
    "    <td>0.5</td>\n",
    "    <td>64.24%</td>\n",
    "    <td></td>\n",
    "  </tr>\n",
    "  <tr>\n",
    "    <td>4</td>\n",
    "    <td>64</td>\n",
    "    <td>8</td>\n",
    "    <td>10</td>\n",
    "    <td>0.001</td>\n",
    "    <td>0.0009972</td>\n",
    "    <td>68</td>\n",
    "    <td>0.5</td>\n",
    "    <td>65.23%</td>\n",
    "    <td></td>\n",
    "  </tr>\n",
    "  <tr>\n",
    "    <td>5</td>\n",
    "    <td>64</td>\n",
    "    <td>8</td>\n",
    "    <td>6</td>\n",
    "    <td>0.0001</td>\n",
    "    <td>0.0007106</td>\n",
    "    <td>94</td>\n",
    "    <td>0.5</td>\n",
    "    <td>65.89%</td>\n",
    "    <td></td>\n",
    "  </tr>\n",
    "  <tr>\n",
    "    <td>6</td>\n",
    "    <td>256</td>\n",
    "    <td>4</td>\n",
    "    <td>8</td>\n",
    "    <td>0.0001</td>\n",
    "    <td>0.0004487</td>\n",
    "    <td>15</td>\n",
    "    <td>0.5</td>\n",
    "    <td>64.57%</td>\n",
    "    <td></td>\n",
    "  </tr>\n",
    "  <tr>\n",
    "    <td>7</td>\n",
    "    <td>64</td>\n",
    "    <td>4</td>\n",
    "    <td>16</td>\n",
    "    <td>0.0001</td>\n",
    "    <td>0.0004636</td>\n",
    "    <td>70</td>\n",
    "    <td>0.5</td>\n",
    "    <td>64.57%</td>\n",
    "    <td></td>\n",
    "  </tr>\n",
    "  <tr>\n",
    "    <td>8</td>\n",
    "    <td>256</td>\n",
    "    <td>64</td>\n",
    "    <td>16</td>\n",
    "    <td>0.0001</td>\n",
    "    <td>0</td>\n",
    "    <td>100</td>\n",
    "    <td>0.1</td>\n",
    "    <td>75.17%</td>\n",
    "    <td></td>\n",
    "  </tr>\n",
    "  <tr>\n",
    "    <td>9</td>\n",
    "    <td>128</td>\n",
    "    <td>64</td>\n",
    "    <td>16</td>\n",
    "    <td>1e-05</td>\n",
    "    <td>0</td>\n",
    "    <td>158</td>\n",
    "    <td>0.01</td>\n",
    "    <td>75.83%</td>\n",
    "    <td>70.89%</td>\n",
    "  </tr>\n",
    "  <tr>\n",
    "    <td>10</td>\n",
    "    <td>128</td>\n",
    "    <td>32</td>\n",
    "    <td>8</td>\n",
    "    <td>0.001</td>\n",
    "    <td>0.0002606</td>\n",
    "    <td>125</td>\n",
    "    <td>0.073</td>\n",
    "    <td>74.17%</td>\n",
    "    <td></td>\n",
    "  </tr>\n",
    "  <tr>\n",
    "    <td>11</td>\n",
    "    <td>256</td>\n",
    "    <td>16</td>\n",
    "    <td>12</td>\n",
    "    <td>1e-06</td>\n",
    "    <td>0.0008477</td>\n",
    "    <td>158</td>\n",
    "    <td>0.42</td>\n",
    "    <td>64.24%</td>\n",
    "    <td></td>\n",
    "  </tr>\n",
    "  <tr>\n",
    "    <td>12</td>\n",
    "    <td>64</td>\n",
    "    <td>32</td>\n",
    "    <td>10</td>\n",
    "    <td>0.001</td>\n",
    "    <td>0.0004878</td>\n",
    "    <td>143</td>\n",
    "    <td>0.22</td>\n",
    "    <td>74.17%</td>\n",
    "    <td></td>\n",
    "  </tr>\n",
    "</table>"
   ]
  }
 ],
 "metadata": {
  "accelerator": "GPU",
  "colab": {
   "collapsed_sections": [
    "vRcjY5IAEU1s"
   ],
   "machine_shape": "hm",
   "provenance": []
  },
  "gpuClass": "premium",
  "kernelspec": {
   "display_name": "Python 3 (ipykernel)",
   "language": "python",
   "name": "python3"
  },
  "language_info": {
   "codemirror_mode": {
    "name": "ipython",
    "version": 3
   },
   "file_extension": ".py",
   "mimetype": "text/x-python",
   "name": "python",
   "nbconvert_exporter": "python",
   "pygments_lexer": "ipython3",
   "version": "3.9.7"
  }
 },
 "nbformat": 4,
 "nbformat_minor": 1
}
