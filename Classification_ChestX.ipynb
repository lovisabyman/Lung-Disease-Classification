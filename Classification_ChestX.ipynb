{
 "cells": [
  {
   "cell_type": "markdown",
   "metadata": {},
   "source": [
    "# Classification of Chest X-ray images using Vision Transformers"
   ]
  },
  {
   "cell_type": "markdown",
   "metadata": {
    "id": "uxkc9iVqEOsD"
   },
   "source": [
    "## Importing necessary packages"
   ]
  },
  {
   "cell_type": "code",
   "execution_count": null,
   "metadata": {
    "id": "DVSLBnhkfn51"
   },
   "outputs": [],
   "source": [
    "import numpy as np\n",
    "import tensorflow as tf\n",
    "from tensorflow import keras\n",
    "from tensorflow.keras import layers\n",
    "import tensorflow_addons as tfa\n",
    "\n",
    "import pandas as pd\n",
    "import matplotlib.pyplot as plt"
   ]
  },
  {
   "cell_type": "markdown",
   "metadata": {
    "id": "7RheyG0QEula"
   },
   "source": [
    "## Create datasets and set hyperparameters"
   ]
  },
  {
   "cell_type": "code",
   "execution_count": null,
   "metadata": {
    "colab": {
     "base_uri": "https://localhost:8080/"
    },
    "executionInfo": {
     "elapsed": 3153,
     "status": "ok",
     "timestamp": 1670894163944,
     "user": {
      "displayName": "Lovisa Byman",
      "userId": "02436576040537953025"
     },
     "user_tz": 480
    },
    "id": "P3dWL86af8ur",
    "outputId": "4e6ec950-9b05-4dac-cbb2-99d1a6bf30da"
   },
   "outputs": [
    {
     "name": "stdout",
     "output_type": "stream",
     "text": [
      "Found 3025 files belonging to 2 classes.\n",
      "Using 2723 files for training.\n",
      "Found 3025 files belonging to 2 classes.\n",
      "Using 302 files for validation.\n",
      "Found 553 files belonging to 2 classes.\n"
     ]
    }
   ],
   "source": [
    "num_classes = 2\n",
    "num_color_channels = 1\n",
    "input_shape = (1024, 1024, num_color_channels)\n",
    "\n",
    "image_size = 256  # Resizes input images to this size\n",
    "batch_size = 32\n",
    "\n",
    "input_shape_resized = (image_size, image_size, num_color_channels)\n",
    "\n",
    "\n",
    "train_ds = tf.keras.preprocessing.image_dataset_from_directory(\n",
    "    \"./train_data\",\n",
    "    labels=\"inferred\",\n",
    "    label_mode=\"int\",\n",
    "    class_names=[\"effusion\", \"no_effusion\"],\n",
    "    color_mode=\"grayscale\",\n",
    "    batch_size = batch_size,\n",
    "    image_size = (image_size,image_size),\n",
    "    validation_split=0.1,\n",
    "    seed=2222,\n",
    "    subset=\"training\",\n",
    ")\n",
    "\n",
    "validation_ds = tf.keras.preprocessing.image_dataset_from_directory(\n",
    "    \"./train_data\",\n",
    "    labels=\"inferred\",\n",
    "    label_mode=\"int\",\n",
    "    class_names=[\"effusion\", \"no_effusion\"],\n",
    "    color_mode=\"grayscale\",\n",
    "    batch_size = batch_size,\n",
    "    image_size = (image_size,image_size),\n",
    "    validation_split=0.1,\n",
    "    seed=2222,\n",
    "    subset=\"validation\",\n",
    ")\n",
    "\n",
    "\n",
    "test_ds = tf.keras.preprocessing.image_dataset_from_directory(\n",
    "    \"./test_data\",\n",
    "    labels=\"inferred\",\n",
    "    label_mode=\"int\",\n",
    "    class_names=[\"effusion\", \"no_effusion\"],\n",
    "    color_mode=\"grayscale\",\n",
    "    batch_size = batch_size,\n",
    "    image_size = (image_size,image_size),\n",
    ")"
   ]
  },
  {
   "cell_type": "code",
   "execution_count": null,
   "metadata": {
    "id": "3M2GtMUFf97F"
   },
   "outputs": [],
   "source": [
    "learning_rate = 0.001\n",
    "weight_decay = 0.0001\n",
    "num_epochs = 100\n",
    "patch_size = 16  # Size of the patches to be extracted from the input images\n",
    "dropout = 0.1\n",
    "num_patches = (image_size // patch_size) ** 2\n",
    "projection_dim = 64\n",
    "num_heads = 4\n",
    "transformer_units = [\n",
    "    projection_dim * 2,\n",
    "    projection_dim,\n",
    "]  # Size of the transformer layers\n",
    "transformer_layers = 8\n",
    "mlp_head_units = [2048, 1024]  # Size of the dense layers of the final classifier"
   ]
  },
  {
   "cell_type": "markdown",
   "metadata": {},
   "source": [
    "## Define functions and layers to use in the network"
   ]
  },
  {
   "cell_type": "code",
   "execution_count": null,
   "metadata": {
    "id": "mZNDa5cvgHDZ"
   },
   "outputs": [],
   "source": [
    "data_augmentation = keras.Sequential(\n",
    "    [\n",
    "        layers.Normalization(mean=0.5, variance=0.5),\n",
    "        layers.RandomRotation(factor=0.02),\n",
    "        layers.RandomZoom(\n",
    "            height_factor=0.2, width_factor=0.2\n",
    "        ),\n",
    "    ],\n",
    "    name=\"data_augmentation\",\n",
    ")"
   ]
  },
  {
   "cell_type": "code",
   "execution_count": null,
   "metadata": {
    "id": "_dGdjlBbgH33"
   },
   "outputs": [],
   "source": [
    "def mlp(x, hidden_units, dropout_rate):\n",
    "    for units in hidden_units:\n",
    "        x = layers.Dense(units, activation=tf.nn.gelu)(x)\n",
    "        x = layers.Dropout(dropout_rate)(x)\n",
    "    return x"
   ]
  },
  {
   "cell_type": "code",
   "execution_count": null,
   "metadata": {
    "id": "yJlWW6nHgMoc"
   },
   "outputs": [],
   "source": [
    "class Patches(layers.Layer):\n",
    "    def __init__(self, patch_size):\n",
    "        super(Patches, self).__init__()\n",
    "        self.patch_size = patch_size\n",
    "\n",
    "    def call(self, images):\n",
    "        batch_size = tf.shape(images)[0]\n",
    "        patches = tf.image.extract_patches(\n",
    "            images=images,\n",
    "            sizes=[1, self.patch_size, self.patch_size, 1],\n",
    "            strides=[1, self.patch_size, self.patch_size, 1],\n",
    "            rates=[1, 1, 1, 1],\n",
    "            padding=\"VALID\",\n",
    "        )\n",
    "        patch_dims = patches.shape[-1]\n",
    "        patches = tf.reshape(patches, [batch_size, -1, patch_dims])\n",
    "        return patches"
   ]
  },
  {
   "cell_type": "code",
   "execution_count": null,
   "metadata": {
    "id": "1nOT0oNMgRtE"
   },
   "outputs": [],
   "source": [
    "class PatchEncoder(layers.Layer):\n",
    "    def __init__(self, num_patches, projection_dim):\n",
    "        super(PatchEncoder, self).__init__()\n",
    "        self.num_patches = num_patches\n",
    "        self.projection = layers.Dense(units=projection_dim)\n",
    "        self.position_embedding = layers.Embedding(\n",
    "            input_dim=num_patches, output_dim=projection_dim\n",
    "        )\n",
    "\n",
    "    def call(self, patch):\n",
    "        positions = tf.range(start=0, limit=self.num_patches, delta=1)\n",
    "        encoded = self.projection(patch) + self.position_embedding(positions)\n",
    "        return encoded"
   ]
  },
  {
   "cell_type": "markdown",
   "metadata": {
    "id": "8mEZmZp0KUSb"
   },
   "source": [
    "## Visualization of training data"
   ]
  },
  {
   "cell_type": "code",
   "execution_count": null,
   "metadata": {
    "colab": {
     "base_uri": "https://localhost:8080/",
     "height": 569
    },
    "executionInfo": {
     "elapsed": 1162,
     "status": "ok",
     "timestamp": 1670895170152,
     "user": {
      "displayName": "Lovisa Byman",
      "userId": "02436576040537953025"
     },
     "user_tz": 480
    },
    "id": "WVlXEBIZLdcn",
    "outputId": "0a858b1f-0947-437e-8dd2-c872d01baf49"
   },
   "outputs": [
    {
     "name": "stdout",
     "output_type": "stream",
     "text": [
      "No Effusion\n",
      "Image size: 256 X 256\n",
      "Patch size: 85 X 85\n",
      "Patches per image: 9\n",
      "Elements per patch: 7225\n"
     ]
    },
    {
     "data": {
      "image/png": "[encoded data removed]",
      "text/plain": [
       "<Figure size 432x288 with 1 Axes>"
      ]
     },
     "metadata": {
      "needs_background": "light"
     },
     "output_type": "display_data"
    },
    {
     "data": {
      "image/png": "[encoded data removed]",
      "text/plain": [
       "<Figure size 288x288 with 9 Axes>"
      ]
     },
     "metadata": {
      "needs_background": "light"
     },
     "output_type": "display_data"
    }
   ],
   "source": [
    "for element in train_ds:\n",
    "    greyscale = element[0].numpy()[0]\n",
    "    one_channel = np.squeeze(greyscale)/255\n",
    "    three_channels = np.stack((one_channel,)*3, axis=-1)\n",
    "    plt.imshow(three_channels)\n",
    "    plt.axis(\"off\")\n",
    "    print([\"No Effusion\", \"Effusion\"][element[1][0]])\n",
    "\n",
    "    patches = Patches(patch_size)(element[0])\n",
    "  \n",
    "    print(f\"Image size: {image_size} X {image_size}\")\n",
    "    print(f\"Patch size: {patch_size} X {patch_size}\")\n",
    "    print(f\"Patches per image: {patches.shape[1]}\")\n",
    "    print(f\"Elements per patch: {patches.shape[-1]}\")\n",
    "\n",
    "    n = int(np.sqrt(patches.shape[1]))\n",
    "    plt.figure(figsize=(4, 4))\n",
    "    for i, patch in enumerate(patches[0]):\n",
    "        ax = plt.subplot(n, n, i + 1)\n",
    "        patch_img = tf.reshape(patch, (patch_size, patch_size))\n",
    "        one_channel = patch_img.numpy().astype(\"uint8\")\n",
    "        three_channels = np.stack((one_channel,)*3, axis=-1)\n",
    "        plt.imshow(three_channels)\n",
    "        plt.axis(\"off\")\n",
    "        break"
   ]
  },
  {
   "cell_type": "markdown",
   "metadata": {},
   "source": [
    "## Define Classifier Network"
   ]
  },
  {
   "cell_type": "code",
   "execution_count": null,
   "metadata": {
    "id": "PrSL_We0gXdU"
   },
   "outputs": [],
   "source": [
    "def create_vit_classifier():\n",
    "    inputs = layers.Input(shape=input_shape_resized)\n",
    "    # Augment data.\n",
    "    augmented = data_augmentation(inputs)\n",
    "    # Create patches.\n",
    "    patches = Patches(patch_size)(augmented)\n",
    "    # Encode patches.\n",
    "    encoded_patches = PatchEncoder(num_patches, projection_dim)(patches)\n",
    "\n",
    "    # Create multiple layers of the Transformer block.\n",
    "    for _ in range(transformer_layers):\n",
    "        # Layer normalization 1.\n",
    "        x1 = layers.LayerNormalization(epsilon=1e-6)(encoded_patches)\n",
    "        # Create a multi-head attention layer.\n",
    "        attention_output = layers.MultiHeadAttention(\n",
    "            num_heads=num_heads, key_dim=projection_dim, dropout=0.1\n",
    "        )(x1, x1)\n",
    "        # Skip connection 1.\n",
    "        x2 = layers.Add()([attention_output, encoded_patches])\n",
    "        # Layer normalization 2.\n",
    "        x3 = layers.LayerNormalization(epsilon=1e-6)(x2)\n",
    "        # MLP.\n",
    "        x3 = mlp(x3, hidden_units=transformer_units, dropout_rate=0.1)\n",
    "        # Skip connection 2.\n",
    "        encoded_patches = layers.Add()([x3, x2])\n",
    "\n",
    "    # Create a [batch_size, projection_dim] tensor.\n",
    "    representation = layers.LayerNormalization(epsilon=1e-6)(encoded_patches)\n",
    "    representation = layers.Flatten()(representation)\n",
    "    representation = layers.Dropout(dropout)(representation) #0.5\n",
    "    # Add MLP.\n",
    "    features = mlp(representation, hidden_units=mlp_head_units, dropout_rate=dropout)#0.5\n",
    "    # Classify outputs.\n",
    "    logits = layers.Dense(1, activation=tf.nn.sigmoid)(features)\n",
    "\n",
    "    # Create the Keras model.\n",
    "    model = keras.Model(inputs=inputs, outputs=logits)\n",
    "    return model"
   ]
  },
  {
   "cell_type": "markdown",
   "metadata": {},
   "source": [
    "## Run experiment"
   ]
  },
  {
   "cell_type": "code",
   "execution_count": null,
   "metadata": {
    "colab": {
     "base_uri": "https://localhost:8080/"
    },
    "executionInfo": {
     "elapsed": 1093160,
     "status": "ok",
     "timestamp": 1670530275017,
     "user": {
      "displayName": "Lovisa Byman",
      "userId": "02436576040537953025"
     },
     "user_tz": 480
    },
    "id": "6ROkQQASgavM",
    "outputId": "e6350cc8-46f6-4edb-aca6-75e24f5b0579"
   },
   "outputs": [
    {
     "name": "stdout",
     "output_type": "stream",
     "text": [
      "Epoch 1/143\n",
      "86/86 [==============================] - 21s 102ms/step - loss: 1.1000 - accuracy: 0.5633 - val_loss: 0.6541 - val_accuracy: 0.6424\n",
      "Epoch 2/143\n",
      "86/86 [==============================] - 8s 83ms/step - loss: 0.6756 - accuracy: 0.5872 - val_loss: 0.7289 - val_accuracy: 0.4338\n",
      "Epoch 3/143\n",
      "86/86 [==============================] - 8s 80ms/step - loss: 0.6818 - accuracy: 0.5858 - val_loss: 0.6669 - val_accuracy: 0.6258\n",
      "Epoch 4/143\n",
      "86/86 [==============================] - 8s 83ms/step - loss: 0.6518 - accuracy: 0.6254 - val_loss: 0.6331 - val_accuracy: 0.6258\n",
      "Epoch 5/143\n",
      "86/86 [==============================] - 7s 80ms/step - loss: 0.6401 - accuracy: 0.6265 - val_loss: 0.6328 - val_accuracy: 0.6424\n",
      "Epoch 6/143\n",
      "86/86 [==============================] - 7s 79ms/step - loss: 0.6451 - accuracy: 0.6298 - val_loss: 0.6406 - val_accuracy: 0.6325\n",
      "Epoch 7/143\n",
      "86/86 [==============================] - 8s 85ms/step - loss: 0.6346 - accuracy: 0.6386 - val_loss: 0.6258 - val_accuracy: 0.6523\n",
      "Epoch 8/143\n",
      "86/86 [==============================] - 8s 84ms/step - loss: 0.6285 - accuracy: 0.6497 - val_loss: 0.6302 - val_accuracy: 0.6623\n",
      "Epoch 9/143\n",
      "86/86 [==============================] - 8s 84ms/step - loss: 0.6288 - accuracy: 0.6489 - val_loss: 0.6178 - val_accuracy: 0.6854\n",
      "Epoch 10/143\n",
      "86/86 [==============================] - 8s 80ms/step - loss: 0.6317 - accuracy: 0.6430 - val_loss: 0.6339 - val_accuracy: 0.6325\n",
      "Epoch 11/143\n",
      "86/86 [==============================] - 8s 81ms/step - loss: 0.6239 - accuracy: 0.6530 - val_loss: 0.6469 - val_accuracy: 0.5927\n",
      "Epoch 12/143\n",
      "86/86 [==============================] - 8s 81ms/step - loss: 0.6291 - accuracy: 0.6515 - val_loss: 0.6229 - val_accuracy: 0.6589\n",
      "Epoch 13/143\n",
      "86/86 [==============================] - 8s 87ms/step - loss: 0.6172 - accuracy: 0.6680 - val_loss: 0.6165 - val_accuracy: 0.6887\n",
      "Epoch 14/143\n",
      "86/86 [==============================] - 8s 80ms/step - loss: 0.6262 - accuracy: 0.6555 - val_loss: 0.6145 - val_accuracy: 0.6854\n",
      "Epoch 15/143\n",
      "86/86 [==============================] - 7s 79ms/step - loss: 0.6085 - accuracy: 0.6721 - val_loss: 0.6174 - val_accuracy: 0.6755\n",
      "Epoch 16/143\n",
      "86/86 [==============================] - 8s 80ms/step - loss: 0.6172 - accuracy: 0.6702 - val_loss: 0.6053 - val_accuracy: 0.6788\n",
      "Epoch 17/143\n",
      "86/86 [==============================] - 7s 80ms/step - loss: 0.6170 - accuracy: 0.6669 - val_loss: 0.6088 - val_accuracy: 0.6755\n",
      "Epoch 18/143\n",
      "86/86 [==============================] - 8s 82ms/step - loss: 0.6103 - accuracy: 0.6728 - val_loss: 0.6127 - val_accuracy: 0.6722\n",
      "Epoch 19/143\n",
      "86/86 [==============================] - 8s 81ms/step - loss: 0.6111 - accuracy: 0.6676 - val_loss: 0.5914 - val_accuracy: 0.6854\n",
      "Epoch 20/143\n",
      "86/86 [==============================] - 7s 80ms/step - loss: 0.6109 - accuracy: 0.6735 - val_loss: 0.5972 - val_accuracy: 0.6689\n",
      "Epoch 21/143\n",
      "86/86 [==============================] - 8s 81ms/step - loss: 0.6252 - accuracy: 0.6463 - val_loss: 0.5948 - val_accuracy: 0.6788\n",
      "Epoch 22/143\n",
      "86/86 [==============================] - 7s 79ms/step - loss: 0.6006 - accuracy: 0.6798 - val_loss: 0.5882 - val_accuracy: 0.6854\n",
      "Epoch 23/143\n",
      "86/86 [==============================] - 8s 85ms/step - loss: 0.6137 - accuracy: 0.6643 - val_loss: 0.5966 - val_accuracy: 0.6921\n",
      "Epoch 24/143\n",
      "86/86 [==============================] - 8s 81ms/step - loss: 0.5974 - accuracy: 0.6809 - val_loss: 0.6994 - val_accuracy: 0.6490\n",
      "Epoch 25/143\n",
      "86/86 [==============================] - 8s 83ms/step - loss: 0.5999 - accuracy: 0.6765 - val_loss: 0.6031 - val_accuracy: 0.6788\n",
      "Epoch 26/143\n",
      "86/86 [==============================] - 8s 81ms/step - loss: 0.5976 - accuracy: 0.6864 - val_loss: 0.5754 - val_accuracy: 0.6854\n",
      "Epoch 27/143\n",
      "86/86 [==============================] - 8s 85ms/step - loss: 0.5884 - accuracy: 0.6886 - val_loss: 0.5919 - val_accuracy: 0.6987\n",
      "Epoch 28/143\n",
      "86/86 [==============================] - 8s 82ms/step - loss: 0.5972 - accuracy: 0.6878 - val_loss: 0.5878 - val_accuracy: 0.6987\n",
      "Epoch 29/143\n",
      "86/86 [==============================] - 8s 84ms/step - loss: 0.5904 - accuracy: 0.6900 - val_loss: 0.5763 - val_accuracy: 0.7152\n",
      "Epoch 30/143\n",
      "86/86 [==============================] - 8s 85ms/step - loss: 0.5886 - accuracy: 0.6878 - val_loss: 0.5659 - val_accuracy: 0.7219\n",
      "Epoch 31/143\n",
      "86/86 [==============================] - 8s 80ms/step - loss: 0.5757 - accuracy: 0.7014 - val_loss: 0.5585 - val_accuracy: 0.7152\n",
      "Epoch 32/143\n",
      "86/86 [==============================] - 7s 80ms/step - loss: 0.5870 - accuracy: 0.6886 - val_loss: 0.6009 - val_accuracy: 0.7053\n",
      "Epoch 33/143\n",
      "86/86 [==============================] - 8s 81ms/step - loss: 0.5686 - accuracy: 0.7132 - val_loss: 0.5713 - val_accuracy: 0.6987\n",
      "Epoch 34/143\n",
      "86/86 [==============================] - 7s 80ms/step - loss: 0.5733 - accuracy: 0.7073 - val_loss: 0.6001 - val_accuracy: 0.6854\n",
      "Epoch 35/143\n",
      "86/86 [==============================] - 7s 80ms/step - loss: 0.5657 - accuracy: 0.7099 - val_loss: 0.5920 - val_accuracy: 0.6854\n",
      "Epoch 36/143\n",
      "86/86 [==============================] - 7s 79ms/step - loss: 0.5635 - accuracy: 0.7040 - val_loss: 0.5636 - val_accuracy: 0.7219\n",
      "Epoch 37/143\n",
      "86/86 [==============================] - 7s 80ms/step - loss: 0.5478 - accuracy: 0.7293 - val_loss: 0.5859 - val_accuracy: 0.7185\n",
      "Epoch 38/143\n",
      "86/86 [==============================] - 8s 84ms/step - loss: 0.5509 - accuracy: 0.7216 - val_loss: 0.5812 - val_accuracy: 0.7318\n",
      "Epoch 39/143\n",
      "86/86 [==============================] - 8s 82ms/step - loss: 0.5432 - accuracy: 0.7293 - val_loss: 0.6179 - val_accuracy: 0.6556\n",
      "Epoch 40/143\n",
      "86/86 [==============================] - 8s 84ms/step - loss: 0.5450 - accuracy: 0.7220 - val_loss: 0.5903 - val_accuracy: 0.7252\n",
      "Epoch 41/143\n",
      "86/86 [==============================] - 8s 81ms/step - loss: 0.5507 - accuracy: 0.7264 - val_loss: 0.6772 - val_accuracy: 0.6093\n",
      "Epoch 42/143\n",
      "86/86 [==============================] - 8s 80ms/step - loss: 0.5419 - accuracy: 0.7260 - val_loss: 0.5874 - val_accuracy: 0.7020\n",
      "Epoch 43/143\n",
      "86/86 [==============================] - 7s 79ms/step - loss: 0.5407 - accuracy: 0.7345 - val_loss: 0.6019 - val_accuracy: 0.6854\n",
      "Epoch 44/143\n",
      "86/86 [==============================] - 8s 81ms/step - loss: 0.5358 - accuracy: 0.7337 - val_loss: 0.5832 - val_accuracy: 0.7053\n",
      "Epoch 45/143\n",
      "86/86 [==============================] - 8s 80ms/step - loss: 0.5251 - accuracy: 0.7371 - val_loss: 0.6202 - val_accuracy: 0.6755\n",
      "Epoch 46/143\n",
      "86/86 [==============================] - 7s 79ms/step - loss: 0.5299 - accuracy: 0.7429 - val_loss: 0.5738 - val_accuracy: 0.7119\n",
      "Epoch 47/143\n",
      "86/86 [==============================] - 7s 80ms/step - loss: 0.5442 - accuracy: 0.7286 - val_loss: 0.5960 - val_accuracy: 0.7252\n",
      "Epoch 48/143\n",
      "86/86 [==============================] - 8s 80ms/step - loss: 0.5333 - accuracy: 0.7371 - val_loss: 0.5998 - val_accuracy: 0.6987\n",
      "Epoch 49/143\n",
      "86/86 [==============================] - 8s 81ms/step - loss: 0.5341 - accuracy: 0.7275 - val_loss: 0.6011 - val_accuracy: 0.7119\n",
      "Epoch 50/143\n",
      "86/86 [==============================] - 8s 81ms/step - loss: 0.5196 - accuracy: 0.7488 - val_loss: 0.5737 - val_accuracy: 0.7185\n",
      "Epoch 51/143\n",
      "86/86 [==============================] - 7s 80ms/step - loss: 0.5228 - accuracy: 0.7393 - val_loss: 0.5770 - val_accuracy: 0.7053\n",
      "Epoch 52/143\n",
      "86/86 [==============================] - 7s 79ms/step - loss: 0.5110 - accuracy: 0.7595 - val_loss: 0.5868 - val_accuracy: 0.7152\n",
      "Epoch 53/143\n",
      "86/86 [==============================] - 8s 80ms/step - loss: 0.5273 - accuracy: 0.7407 - val_loss: 0.5883 - val_accuracy: 0.7318\n",
      "Epoch 54/143\n",
      "86/86 [==============================] - 8s 81ms/step - loss: 0.5113 - accuracy: 0.7510 - val_loss: 0.6192 - val_accuracy: 0.6887\n",
      "Epoch 55/143\n",
      "86/86 [==============================] - 8s 83ms/step - loss: 0.5026 - accuracy: 0.7573 - val_loss: 0.6201 - val_accuracy: 0.6987\n",
      "Epoch 56/143\n",
      "86/86 [==============================] - 8s 85ms/step - loss: 0.5511 - accuracy: 0.7139 - val_loss: 0.5914 - val_accuracy: 0.7252\n",
      "Epoch 57/143\n",
      "86/86 [==============================] - 7s 80ms/step - loss: 0.5211 - accuracy: 0.7411 - val_loss: 0.5811 - val_accuracy: 0.7252\n",
      "Epoch 58/143\n",
      "86/86 [==============================] - 7s 79ms/step - loss: 0.4934 - accuracy: 0.7539 - val_loss: 0.6382 - val_accuracy: 0.6921\n",
      "Epoch 59/143\n",
      "86/86 [==============================] - 7s 78ms/step - loss: 0.5141 - accuracy: 0.7367 - val_loss: 0.6224 - val_accuracy: 0.7053\n",
      "Epoch 60/143\n",
      "86/86 [==============================] - 7s 79ms/step - loss: 0.5072 - accuracy: 0.7539 - val_loss: 0.5913 - val_accuracy: 0.7020\n",
      "Epoch 61/143\n",
      "86/86 [==============================] - 7s 81ms/step - loss: 0.5120 - accuracy: 0.7492 - val_loss: 0.5951 - val_accuracy: 0.7185\n",
      "Epoch 62/143\n",
      "86/86 [==============================] - 8s 80ms/step - loss: 0.5057 - accuracy: 0.7547 - val_loss: 0.6275 - val_accuracy: 0.7086\n",
      "Epoch 63/143\n",
      "86/86 [==============================] - 7s 79ms/step - loss: 0.5072 - accuracy: 0.7525 - val_loss: 0.5901 - val_accuracy: 0.7053\n",
      "Epoch 64/143\n",
      "86/86 [==============================] - 7s 77ms/step - loss: 0.4900 - accuracy: 0.7624 - val_loss: 0.6502 - val_accuracy: 0.6755\n",
      "Epoch 65/143\n",
      "86/86 [==============================] - 7s 78ms/step - loss: 0.5191 - accuracy: 0.7448 - val_loss: 0.5701 - val_accuracy: 0.7285\n",
      "Epoch 66/143\n",
      "86/86 [==============================] - 7s 78ms/step - loss: 0.5000 - accuracy: 0.7550 - val_loss: 0.6244 - val_accuracy: 0.7020\n",
      "Epoch 67/143\n",
      "86/86 [==============================] - 7s 79ms/step - loss: 0.5202 - accuracy: 0.7466 - val_loss: 0.6340 - val_accuracy: 0.7152\n",
      "Epoch 68/143\n",
      "86/86 [==============================] - 7s 78ms/step - loss: 0.5019 - accuracy: 0.7558 - val_loss: 0.6192 - val_accuracy: 0.6887\n",
      "Epoch 69/143\n",
      "86/86 [==============================] - 7s 78ms/step - loss: 0.4939 - accuracy: 0.7562 - val_loss: 0.6018 - val_accuracy: 0.7053\n",
      "Epoch 70/143\n",
      "86/86 [==============================] - 7s 78ms/step - loss: 0.4927 - accuracy: 0.7580 - val_loss: 0.5939 - val_accuracy: 0.6987\n",
      "Epoch 71/143\n",
      "86/86 [==============================] - 7s 76ms/step - loss: 0.4840 - accuracy: 0.7734 - val_loss: 0.6058 - val_accuracy: 0.7020\n",
      "Epoch 72/143\n",
      "86/86 [==============================] - 7s 76ms/step - loss: 0.4931 - accuracy: 0.7624 - val_loss: 0.6399 - val_accuracy: 0.7119\n",
      "Epoch 73/143\n",
      "86/86 [==============================] - 7s 78ms/step - loss: 0.5006 - accuracy: 0.7576 - val_loss: 0.5975 - val_accuracy: 0.7152\n",
      "Epoch 74/143\n",
      "86/86 [==============================] - 7s 78ms/step - loss: 0.4901 - accuracy: 0.7620 - val_loss: 0.5875 - val_accuracy: 0.7119\n",
      "Epoch 75/143\n",
      "86/86 [==============================] - 7s 78ms/step - loss: 0.4975 - accuracy: 0.7506 - val_loss: 0.6051 - val_accuracy: 0.6954\n",
      "Epoch 76/143\n",
      "86/86 [==============================] - 7s 77ms/step - loss: 0.4821 - accuracy: 0.7745 - val_loss: 0.6211 - val_accuracy: 0.6954\n",
      "Epoch 77/143\n",
      "86/86 [==============================] - 7s 76ms/step - loss: 0.6027 - accuracy: 0.6941 - val_loss: 0.5860 - val_accuracy: 0.7053\n",
      "Epoch 78/143\n",
      "86/86 [==============================] - 7s 75ms/step - loss: 0.5302 - accuracy: 0.7271 - val_loss: 0.5995 - val_accuracy: 0.7119\n",
      "Epoch 79/143\n",
      "86/86 [==============================] - 7s 76ms/step - loss: 0.4935 - accuracy: 0.7613 - val_loss: 0.5917 - val_accuracy: 0.7318\n",
      "Epoch 80/143\n",
      "86/86 [==============================] - 7s 75ms/step - loss: 0.5092 - accuracy: 0.7547 - val_loss: 0.5937 - val_accuracy: 0.7219\n",
      "Epoch 81/143\n",
      "86/86 [==============================] - 7s 75ms/step - loss: 0.4890 - accuracy: 0.7620 - val_loss: 0.5830 - val_accuracy: 0.7285\n",
      "Epoch 82/143\n",
      "86/86 [==============================] - 7s 79ms/step - loss: 0.4880 - accuracy: 0.7635 - val_loss: 0.5908 - val_accuracy: 0.7119\n",
      "Epoch 83/143\n",
      "86/86 [==============================] - 7s 78ms/step - loss: 0.4763 - accuracy: 0.7686 - val_loss: 0.6758 - val_accuracy: 0.6954\n",
      "Epoch 84/143\n",
      "86/86 [==============================] - 7s 76ms/step - loss: 0.4894 - accuracy: 0.7609 - val_loss: 0.6017 - val_accuracy: 0.7219\n",
      "Epoch 85/143\n",
      "86/86 [==============================] - 7s 76ms/step - loss: 0.4804 - accuracy: 0.7690 - val_loss: 0.5971 - val_accuracy: 0.7053\n",
      "Epoch 86/143\n",
      "86/86 [==============================] - 7s 78ms/step - loss: 0.4791 - accuracy: 0.7664 - val_loss: 0.6188 - val_accuracy: 0.6755\n",
      "Epoch 87/143\n",
      "86/86 [==============================] - 8s 80ms/step - loss: 0.4966 - accuracy: 0.7631 - val_loss: 0.6108 - val_accuracy: 0.6954\n",
      "Epoch 88/143\n",
      "86/86 [==============================] - 8s 87ms/step - loss: 0.4858 - accuracy: 0.7635 - val_loss: 0.6188 - val_accuracy: 0.7119\n",
      "Epoch 89/143\n",
      "86/86 [==============================] - 8s 81ms/step - loss: 0.4846 - accuracy: 0.7697 - val_loss: 0.6133 - val_accuracy: 0.7318\n",
      "Epoch 90/143\n",
      "86/86 [==============================] - 7s 80ms/step - loss: 0.4866 - accuracy: 0.7679 - val_loss: 0.6044 - val_accuracy: 0.7185\n",
      "Epoch 91/143\n",
      "86/86 [==============================] - 8s 80ms/step - loss: 0.4880 - accuracy: 0.7675 - val_loss: 0.6520 - val_accuracy: 0.6987\n",
      "Epoch 92/143\n",
      "86/86 [==============================] - 7s 79ms/step - loss: 0.5003 - accuracy: 0.7488 - val_loss: 0.6170 - val_accuracy: 0.6987\n",
      "Epoch 93/143\n",
      "86/86 [==============================] - 7s 80ms/step - loss: 0.4723 - accuracy: 0.7782 - val_loss: 0.6004 - val_accuracy: 0.7219\n",
      "Epoch 94/143\n",
      "86/86 [==============================] - 8s 85ms/step - loss: 0.4857 - accuracy: 0.7635 - val_loss: 0.6642 - val_accuracy: 0.6589\n",
      "Epoch 95/143\n",
      "86/86 [==============================] - 8s 82ms/step - loss: 0.4765 - accuracy: 0.7712 - val_loss: 0.6229 - val_accuracy: 0.6887\n",
      "Epoch 96/143\n",
      "86/86 [==============================] - 8s 80ms/step - loss: 0.4825 - accuracy: 0.7653 - val_loss: 0.6839 - val_accuracy: 0.6722\n",
      "Epoch 97/143\n",
      "86/86 [==============================] - 7s 79ms/step - loss: 0.4761 - accuracy: 0.7716 - val_loss: 0.6170 - val_accuracy: 0.7252\n",
      "Epoch 98/143\n",
      "86/86 [==============================] - 7s 80ms/step - loss: 0.4863 - accuracy: 0.7642 - val_loss: 0.6095 - val_accuracy: 0.7185\n",
      "Epoch 99/143\n",
      "86/86 [==============================] - 8s 81ms/step - loss: 0.4695 - accuracy: 0.7708 - val_loss: 0.6282 - val_accuracy: 0.6987\n",
      "Epoch 100/143\n",
      "86/86 [==============================] - 8s 81ms/step - loss: 0.4750 - accuracy: 0.7690 - val_loss: 0.6701 - val_accuracy: 0.7020\n",
      "Epoch 101/143\n",
      "86/86 [==============================] - 8s 80ms/step - loss: 0.4908 - accuracy: 0.7595 - val_loss: 0.6263 - val_accuracy: 0.6821\n",
      "Epoch 102/143\n",
      "86/86 [==============================] - 7s 80ms/step - loss: 0.4686 - accuracy: 0.7727 - val_loss: 0.6381 - val_accuracy: 0.6921\n",
      "Epoch 103/143\n",
      "86/86 [==============================] - 7s 80ms/step - loss: 0.4740 - accuracy: 0.7679 - val_loss: 0.6346 - val_accuracy: 0.7053\n",
      "Epoch 104/143\n",
      "86/86 [==============================] - 7s 80ms/step - loss: 0.4731 - accuracy: 0.7760 - val_loss: 0.6528 - val_accuracy: 0.7152\n",
      "Epoch 105/143\n",
      "86/86 [==============================] - 8s 81ms/step - loss: 0.4769 - accuracy: 0.7705 - val_loss: 0.6749 - val_accuracy: 0.6987\n",
      "Epoch 106/143\n",
      "86/86 [==============================] - 7s 81ms/step - loss: 0.4794 - accuracy: 0.7668 - val_loss: 0.6453 - val_accuracy: 0.7119\n",
      "Epoch 107/143\n",
      "86/86 [==============================] - 7s 80ms/step - loss: 0.4733 - accuracy: 0.7752 - val_loss: 0.6561 - val_accuracy: 0.7119\n",
      "Epoch 108/143\n",
      "86/86 [==============================] - 7s 79ms/step - loss: 0.4526 - accuracy: 0.7863 - val_loss: 0.6381 - val_accuracy: 0.7185\n",
      "Epoch 109/143\n",
      "86/86 [==============================] - 8s 83ms/step - loss: 0.4959 - accuracy: 0.7521 - val_loss: 0.7449 - val_accuracy: 0.6821\n",
      "Epoch 110/143\n",
      "86/86 [==============================] - 7s 79ms/step - loss: 0.4740 - accuracy: 0.7694 - val_loss: 0.7065 - val_accuracy: 0.6821\n",
      "Epoch 111/143\n",
      "86/86 [==============================] - 8s 81ms/step - loss: 0.4903 - accuracy: 0.7584 - val_loss: 0.7380 - val_accuracy: 0.7053\n",
      "Epoch 112/143\n",
      "86/86 [==============================] - 8s 81ms/step - loss: 0.4854 - accuracy: 0.7642 - val_loss: 0.7292 - val_accuracy: 0.6656\n",
      "Epoch 113/143\n",
      "86/86 [==============================] - 8s 81ms/step - loss: 0.4696 - accuracy: 0.7668 - val_loss: 0.6679 - val_accuracy: 0.7020\n",
      "Epoch 114/143\n",
      "86/86 [==============================] - 7s 80ms/step - loss: 0.4710 - accuracy: 0.7763 - val_loss: 0.6249 - val_accuracy: 0.7020\n",
      "Epoch 115/143\n",
      "86/86 [==============================] - 7s 80ms/step - loss: 0.4584 - accuracy: 0.7826 - val_loss: 0.6593 - val_accuracy: 0.6854\n",
      "Epoch 116/143\n",
      "86/86 [==============================] - 7s 80ms/step - loss: 0.4906 - accuracy: 0.7613 - val_loss: 0.6175 - val_accuracy: 0.7119\n",
      "Epoch 117/143\n",
      "86/86 [==============================] - 8s 81ms/step - loss: 0.4808 - accuracy: 0.7683 - val_loss: 0.5927 - val_accuracy: 0.7185\n",
      "Epoch 118/143\n",
      "86/86 [==============================] - 8s 81ms/step - loss: 0.4682 - accuracy: 0.7705 - val_loss: 0.5965 - val_accuracy: 0.7053\n",
      "Epoch 119/143\n",
      "86/86 [==============================] - 7s 80ms/step - loss: 0.4662 - accuracy: 0.7775 - val_loss: 0.6925 - val_accuracy: 0.6987\n",
      "Epoch 120/143\n",
      "86/86 [==============================] - 8s 81ms/step - loss: 0.4730 - accuracy: 0.7782 - val_loss: 0.6207 - val_accuracy: 0.6954\n",
      "Epoch 121/143\n",
      "86/86 [==============================] - 7s 79ms/step - loss: 0.4677 - accuracy: 0.7705 - val_loss: 0.6359 - val_accuracy: 0.7053\n",
      "Epoch 122/143\n",
      "86/86 [==============================] - 8s 85ms/step - loss: 0.5539 - accuracy: 0.7235 - val_loss: 0.5941 - val_accuracy: 0.7152\n",
      "Epoch 123/143\n",
      "86/86 [==============================] - 8s 81ms/step - loss: 0.4858 - accuracy: 0.7701 - val_loss: 0.6165 - val_accuracy: 0.7285\n",
      "Epoch 124/143\n",
      "86/86 [==============================] - 8s 85ms/step - loss: 0.4784 - accuracy: 0.7694 - val_loss: 0.5884 - val_accuracy: 0.7417\n",
      "Epoch 125/143\n",
      "86/86 [==============================] - 7s 80ms/step - loss: 0.4918 - accuracy: 0.7591 - val_loss: 0.5940 - val_accuracy: 0.7219\n",
      "Epoch 126/143\n",
      "86/86 [==============================] - 7s 80ms/step - loss: 0.4649 - accuracy: 0.7786 - val_loss: 0.5877 - val_accuracy: 0.7252\n",
      "Epoch 127/143\n",
      "86/86 [==============================] - 7s 76ms/step - loss: 0.4664 - accuracy: 0.7808 - val_loss: 0.6842 - val_accuracy: 0.6821\n",
      "Epoch 128/143\n",
      "86/86 [==============================] - 7s 74ms/step - loss: 0.4654 - accuracy: 0.7793 - val_loss: 0.6354 - val_accuracy: 0.7086\n",
      "Epoch 129/143\n",
      "86/86 [==============================] - 7s 76ms/step - loss: 0.4635 - accuracy: 0.7767 - val_loss: 0.6626 - val_accuracy: 0.6987\n",
      "Epoch 130/143\n",
      "86/86 [==============================] - 8s 80ms/step - loss: 0.4882 - accuracy: 0.7587 - val_loss: 0.7396 - val_accuracy: 0.6755\n",
      "Epoch 131/143\n",
      "86/86 [==============================] - 8s 81ms/step - loss: 0.4722 - accuracy: 0.7778 - val_loss: 0.6028 - val_accuracy: 0.7285\n",
      "Epoch 132/143\n",
      "86/86 [==============================] - 8s 81ms/step - loss: 0.4621 - accuracy: 0.7899 - val_loss: 0.6183 - val_accuracy: 0.7185\n",
      "Epoch 133/143\n",
      "86/86 [==============================] - 8s 80ms/step - loss: 0.4617 - accuracy: 0.7804 - val_loss: 0.6343 - val_accuracy: 0.6954\n",
      "Epoch 134/143\n",
      "86/86 [==============================] - 8s 81ms/step - loss: 0.4685 - accuracy: 0.7708 - val_loss: 0.5931 - val_accuracy: 0.6987\n",
      "Epoch 135/143\n",
      "86/86 [==============================] - 8s 84ms/step - loss: 0.4590 - accuracy: 0.7892 - val_loss: 0.6002 - val_accuracy: 0.7086\n",
      "Epoch 136/143\n",
      "86/86 [==============================] - 8s 80ms/step - loss: 0.4748 - accuracy: 0.7734 - val_loss: 0.6257 - val_accuracy: 0.6755\n",
      "Epoch 137/143\n",
      "86/86 [==============================] - 8s 81ms/step - loss: 0.4722 - accuracy: 0.7797 - val_loss: 0.6589 - val_accuracy: 0.7152\n",
      "Epoch 138/143\n",
      "86/86 [==============================] - 8s 81ms/step - loss: 0.4628 - accuracy: 0.7756 - val_loss: 0.6312 - val_accuracy: 0.7252\n",
      "Epoch 139/143\n",
      "86/86 [==============================] - 8s 82ms/step - loss: 0.4581 - accuracy: 0.7833 - val_loss: 0.6926 - val_accuracy: 0.6523\n",
      "Epoch 140/143\n",
      "86/86 [==============================] - 7s 80ms/step - loss: 0.4886 - accuracy: 0.7602 - val_loss: 0.6702 - val_accuracy: 0.6788\n",
      "Epoch 141/143\n",
      "86/86 [==============================] - 7s 79ms/step - loss: 0.4708 - accuracy: 0.7826 - val_loss: 0.7965 - val_accuracy: 0.6523\n",
      "Epoch 142/143\n",
      "86/86 [==============================] - 7s 80ms/step - loss: 0.4693 - accuracy: 0.7786 - val_loss: 0.6853 - val_accuracy: 0.6623\n",
      "Epoch 143/143\n",
      "86/86 [==============================] - 8s 81ms/step - loss: 0.4716 - accuracy: 0.7804 - val_loss: 0.6162 - val_accuracy: 0.7086\n",
      "18/18 [==============================] - 1s 40ms/step - loss: 0.6199 - accuracy: 0.7016\n",
      "Test accuracy: 70.16%\n"
     ]
    }
   ],
   "source": [
    "def run_experiment(model):\n",
    "    optimizer = tfa.optimizers.AdamW(\n",
    "        learning_rate=learning_rate, weight_decay=weight_decay\n",
    "    )\n",
    "\n",
    "    model.compile(\n",
    "        optimizer=optimizer,\n",
    "        loss=keras.losses.BinaryCrossentropy(from_logits=False),\n",
    "        metrics=[\n",
    "            keras.metrics.BinaryAccuracy(name=\"accuracy\"),\n",
    "        ],\n",
    "    )\n",
    "\n",
    "    checkpoint_filepath = \"/tmp/checkpoint\"\n",
    "    checkpoint_callback = keras.callbacks.ModelCheckpoint(\n",
    "        checkpoint_filepath,\n",
    "        monitor=\"val_accuracy\",\n",
    "        save_best_only=True,\n",
    "        save_weights_only=True,\n",
    "    )\n",
    "\n",
    "    history = model.fit(\n",
    "        train_ds,\n",
    "        validation_data = validation_ds,\n",
    "        epochs=num_epochs,\n",
    "        callbacks=[checkpoint_callback],\n",
    "    )\n",
    "\n",
    "    model.load_weights(checkpoint_filepath)\n",
    "    _, accuracy = model.evaluate(test_ds)\n",
    "    print(f\"Test accuracy: {round(accuracy * 100, 2)}%\")\n",
    "    return history\n",
    "\n",
    "\n",
    "vit_classifier = create_vit_classifier()\n",
    "history = run_experiment(vit_classifier)"
   ]
  },
  {
   "cell_type": "markdown",
   "metadata": {},
   "source": [
    "## Visualize training loss and accuracy"
   ]
  },
  {
   "cell_type": "code",
   "execution_count": null,
   "metadata": {
    "colab": {
     "base_uri": "https://localhost:8080/",
     "height": 573
    },
    "executionInfo": {
     "elapsed": 849,
     "status": "ok",
     "timestamp": 1670530377541,
     "user": {
      "displayName": "Lovisa Byman",
      "userId": "02436576040537953025"
     },
     "user_tz": 480
    },
    "id": "0cVqOtRb5wkO",
    "outputId": "0368c9e0-e6c3-4968-9cb6-c757c2a8d4f4"
   },
   "outputs": [
    {
     "data": {
      "image/png": "[encoded data removed]",
      "text/plain": [
       "<Figure size 432x288 with 1 Axes>"
      ]
     },
     "metadata": {
      "needs_background": "light"
     },
     "output_type": "display_data"
    },
    {
     "data": {
      "image/png": "[encoded data removed]",
      "text/plain": [
       "<Figure size 432x288 with 1 Axes>"
      ]
     },
     "metadata": {
      "needs_background": "light"
     },
     "output_type": "display_data"
    }
   ],
   "source": [
    "plt.plot(history.history['accuracy'])\n",
    "plt.plot(history.history['val_accuracy'])\n",
    "plt.title('model accuracy')\n",
    "plt.ylabel('accuracy')\n",
    "plt.xlabel('epoch')\n",
    "plt.legend(['train', 'validation'], loc='upper left')\n",
    "plt.show()\n",
    "\n",
    "\n",
    "plt.plot(history.history['loss'])\n",
    "plt.plot(history.history['val_loss'])\n",
    "plt.title('model loss')\n",
    "plt.ylabel('loss')\n",
    "plt.xlabel('epoch')\n",
    "plt.legend(['train', 'validation'], loc='upper left')\n",
    "plt.show()"
   ]
  },
  {
   "cell_type": "markdown",
   "metadata": {
    "id": "sXtJsJriDY7H"
   },
   "source": [
    "## Results"
   ]
  },
  {
   "cell_type": "markdown",
   "metadata": {
    "id": "sQvcdEbIDZo2"
   },
   "source": [
    " <table style=\"width:100%\">\n",
    "  <tr>\n",
    "    <th>Run</th>\n",
    "    <th>Image Size</th>\n",
    "    <th>Batch Size</th>\n",
    "    <th>Patch Size</th>\n",
    "    <th>Learning Rate</th>\n",
    "    <th>Weight Decay</th>\n",
    "    <th>Number of Epochs</th>\n",
    "    <th>Dropout</th>\n",
    "    <th>Result (validation set)</th>\n",
    "    <th>Result (test set)</th>\n",
    "  </tr>\n",
    "  <tr>\n",
    "    <td>1</td>\n",
    "    <td>128</td>\n",
    "    <td>1</td>\n",
    "    <td>6</td>\n",
    "    <td>0.0001</td>\n",
    "    <td>0</td>\n",
    "    <td>20</td>\n",
    "    <td>0.5</td>\n",
    "    <td>66.23%</td>\n",
    "    <td></td>\n",
    "  </tr>\n",
    "  <tr>\n",
    "    <td>2</td>\n",
    "    <td>128</td>\n",
    "    <td>4</td>\n",
    "    <td>4</td>\n",
    "    <td>0.0001</td>\n",
    "    <td>0.0006184</td>\n",
    "    <td>50</td>\n",
    "    <td>0.5</td>\n",
    "    <td>64.24%</td>\n",
    "    <td></td>\n",
    "  </tr>\n",
    "  <tr>\n",
    "    <td>3</td>\n",
    "    <td>128</td>\n",
    "    <td>2</td>\n",
    "    <td>4</td>\n",
    "    <td>1e-05</td>\n",
    "    <td>0.0008492</td>\n",
    "    <td>63</td>\n",
    "    <td>0.5</td>\n",
    "    <td>64.24%</td>\n",
    "    <td></td>\n",
    "  </tr>\n",
    "  <tr>\n",
    "    <td>4</td>\n",
    "    <td>64</td>\n",
    "    <td>8</td>\n",
    "    <td>10</td>\n",
    "    <td>0.001</td>\n",
    "    <td>0.0009972</td>\n",
    "    <td>68</td>\n",
    "    <td>0.5</td>\n",
    "    <td>65.23%</td>\n",
    "    <td></td>\n",
    "  </tr>\n",
    "  <tr>\n",
    "    <td>5</td>\n",
    "    <td>64</td>\n",
    "    <td>8</td>\n",
    "    <td>6</td>\n",
    "    <td>0.0001</td>\n",
    "    <td>0.0007106</td>\n",
    "    <td>94</td>\n",
    "    <td>0.5</td>\n",
    "    <td>65.89%</td>\n",
    "    <td></td>\n",
    "  </tr>\n",
    "  <tr>\n",
    "    <td>6</td>\n",
    "    <td>256</td>\n",
    "    <td>4</td>\n",
    "    <td>8</td>\n",
    "    <td>0.0001</td>\n",
    "    <td>0.0004487</td>\n",
    "    <td>15</td>\n",
    "    <td>0.5</td>\n",
    "    <td>64.57%</td>\n",
    "    <td></td>\n",
    "  </tr>\n",
    "  <tr>\n",
    "    <td>7</td>\n",
    "    <td>64</td>\n",
    "    <td>4</td>\n",
    "    <td>16</td>\n",
    "    <td>0.0001</td>\n",
    "    <td>0.0004636</td>\n",
    "    <td>70</td>\n",
    "    <td>0.5</td>\n",
    "    <td>64.57%</td>\n",
    "    <td></td>\n",
    "  </tr>\n",
    "  <tr>\n",
    "    <td>8</td>\n",
    "    <td>256</td>\n",
    "    <td>64</td>\n",
    "    <td>16</td>\n",
    "    <td>0.0001</td>\n",
    "    <td>0</td>\n",
    "    <td>100</td>\n",
    "    <td>0.1</td>\n",
    "    <td>75.17%</td>\n",
    "    <td></td>\n",
    "  </tr>\n",
    "  <tr>\n",
    "    <td>9</td>\n",
    "    <td>128</td>\n",
    "    <td>64</td>\n",
    "    <td>16</td>\n",
    "    <td>1e-05</td>\n",
    "    <td>0</td>\n",
    "    <td>158</td>\n",
    "    <td>0.01</td>\n",
    "    <td>75.83%</td>\n",
    "    <td>70.89%</td>\n",
    "  </tr>\n",
    "  <tr>\n",
    "    <td>10</td>\n",
    "    <td>128</td>\n",
    "    <td>32</td>\n",
    "    <td>8</td>\n",
    "    <td>0.001</td>\n",
    "    <td>0.0002606</td>\n",
    "    <td>125</td>\n",
    "    <td>0.073</td>\n",
    "    <td>74.17%</td>\n",
    "    <td></td>\n",
    "  </tr>\n",
    "  <tr>\n",
    "    <td>11</td>\n",
    "    <td>256</td>\n",
    "    <td>16</td>\n",
    "    <td>12</td>\n",
    "    <td>1e-06</td>\n",
    "    <td>0.0008477</td>\n",
    "    <td>158</td>\n",
    "    <td>0.42</td>\n",
    "    <td>64.24%</td>\n",
    "    <td></td>\n",
    "  </tr>\n",
    "  <tr>\n",
    "    <td>12</td>\n",
    "    <td>64</td>\n",
    "    <td>32</td>\n",
    "    <td>10</td>\n",
    "    <td>0.001</td>\n",
    "    <td>0.0004878</td>\n",
    "    <td>143</td>\n",
    "    <td>0.22</td>\n",
    "    <td>74.17%</td>\n",
    "    <td></td>\n",
    "  </tr>\n",
    "</table>"
   ]
  }
 ],
 "metadata": {
  "accelerator": "GPU",
  "colab": {
   "collapsed_sections": [
    "vRcjY5IAEU1s"
   ],
   "machine_shape": "hm",
   "provenance": []
  },
  "gpuClass": "premium",
  "kernelspec": {
   "display_name": "Python 3 (ipykernel)",
   "language": "python",
   "name": "python3"
  },
  "language_info": {
   "codemirror_mode": {
    "name": "ipython",
    "version": 3
   },
   "file_extension": ".py",
   "mimetype": "text/x-python",
   "name": "python",
   "nbconvert_exporter": "python",
   "pygments_lexer": "ipython3",
   "version": "3.9.7"
  }
 },
 "nbformat": 4,
 "nbformat_minor": 1
}
